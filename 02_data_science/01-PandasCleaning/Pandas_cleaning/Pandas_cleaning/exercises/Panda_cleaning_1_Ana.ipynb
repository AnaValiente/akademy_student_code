{
 "cells": [
  {
   "cell_type": "markdown",
   "metadata": {},
   "source": [
    "## Introduction to Data Cleaning\n",
    "\n",
    "Run the first cell and import the laptops dataset.\n",
    "\n",
    "You can find more information about the laptops dataset from the [kaggle data source](https://www.kaggle.com/ionaskel/laptop-prices)\n",
    "\n",
    "We've also used the .info() command to pring the columns, number of values, and type of each column."
   ]
  },
  {
   "cell_type": "code",
   "execution_count": 1,
   "metadata": {},
   "outputs": [
    {
     "name": "stdout",
     "output_type": "stream",
     "text": [
      "<class 'pandas.core.frame.DataFrame'>\n",
      "Int64Index: 1303 entries, 1 to 1320\n",
      "Data columns (total 12 columns):\n",
      "Company              1303 non-null object\n",
      "Product              1303 non-null object\n",
      "Type-Name            1303 non-null object\n",
      "Inches               1303 non-null float64\n",
      "Screen-Resolution    1303 non-null object\n",
      "Cpu                  1303 non-null object\n",
      "Ram                  1303 non-null object\n",
      "Memory               1303 non-null object\n",
      "Gpu                  1303 non-null object\n",
      "OpSys                1303 non-null object\n",
      "Weight               1303 non-null object\n",
      "Price(euros)         1303 non-null float64\n",
      "dtypes: float64(2), object(10)\n",
      "memory usage: 132.3+ KB\n",
      "None\n"
     ]
    }
   ],
   "source": [
    "import pandas as pd\n",
    "laptops = pd.read_csv(\"./laptops-raw.csv\", encoding = \"Latin-1\", index_col=0)\n",
    "print(laptops.info())"
   ]
  },
  {
   "cell_type": "markdown",
   "metadata": {},
   "source": [
    "Use ```head()``` and inspect the first few rows of the dataframe. Think about the folowing questions when first lookign at your data.\n",
    "\n",
    "Do we have any missing values?\n",
    "What are some things you think might need cleaning?\n",
    "Are column headers all uniform?\n",
    "Are there columns with multiple similar entries?\n",
    "Are there columns that contain numeric and text information?\n",
    "How could we transform categorical features into numeric?"
   ]
  },
  {
   "cell_type": "code",
   "execution_count": 2,
   "metadata": {},
   "outputs": [
    {
     "data": {
      "text/html": [
       "<div>\n",
       "<style scoped>\n",
       "    .dataframe tbody tr th:only-of-type {\n",
       "        vertical-align: middle;\n",
       "    }\n",
       "\n",
       "    .dataframe tbody tr th {\n",
       "        vertical-align: top;\n",
       "    }\n",
       "\n",
       "    .dataframe thead th {\n",
       "        text-align: right;\n",
       "    }\n",
       "</style>\n",
       "<table border=\"1\" class=\"dataframe\">\n",
       "  <thead>\n",
       "    <tr style=\"text-align: right;\">\n",
       "      <th></th>\n",
       "      <th>Company</th>\n",
       "      <th>Product</th>\n",
       "      <th>Type-Name</th>\n",
       "      <th>Inches</th>\n",
       "      <th>Screen-Resolution</th>\n",
       "      <th>Cpu</th>\n",
       "      <th>Ram</th>\n",
       "      <th>Memory</th>\n",
       "      <th>Gpu</th>\n",
       "      <th>OpSys</th>\n",
       "      <th>Weight</th>\n",
       "      <th>Price(euros)</th>\n",
       "    </tr>\n",
       "  </thead>\n",
       "  <tbody>\n",
       "    <tr>\n",
       "      <th>1316</th>\n",
       "      <td>Lenovo</td>\n",
       "      <td>Yoga 500-14ISK</td>\n",
       "      <td>2 in 1 Convertible</td>\n",
       "      <td>14.0</td>\n",
       "      <td>IPS Panel Full HD / Touchscreen 1920x1080</td>\n",
       "      <td>Intel Core i7 6500U 2.5GHz</td>\n",
       "      <td>4GB</td>\n",
       "      <td>128GB SSD</td>\n",
       "      <td>Intel HD Graphics 520</td>\n",
       "      <td>Windows 10</td>\n",
       "      <td>1.8kg</td>\n",
       "      <td>638.0</td>\n",
       "    </tr>\n",
       "    <tr>\n",
       "      <th>1317</th>\n",
       "      <td>Lenovo</td>\n",
       "      <td>Yoga 900-13ISK</td>\n",
       "      <td>2 in 1 Convertible</td>\n",
       "      <td>13.3</td>\n",
       "      <td>IPS Panel Quad HD+ / Touchscreen 3200x1800</td>\n",
       "      <td>Intel Core i7 6500U 2.5GHz</td>\n",
       "      <td>16GB</td>\n",
       "      <td>512GB SSD</td>\n",
       "      <td>Intel HD Graphics 520</td>\n",
       "      <td>Windows 10</td>\n",
       "      <td>1.3kg</td>\n",
       "      <td>1499.0</td>\n",
       "    </tr>\n",
       "    <tr>\n",
       "      <th>1318</th>\n",
       "      <td>Lenovo</td>\n",
       "      <td>IdeaPad 100S-14IBR</td>\n",
       "      <td>Notebook</td>\n",
       "      <td>14.0</td>\n",
       "      <td>1366x768</td>\n",
       "      <td>Intel Celeron Dual Core N3050 1.6GHz</td>\n",
       "      <td>2GB</td>\n",
       "      <td>64GB Flash Storage</td>\n",
       "      <td>Intel HD Graphics</td>\n",
       "      <td>Windows 10</td>\n",
       "      <td>1.5kg</td>\n",
       "      <td>229.0</td>\n",
       "    </tr>\n",
       "    <tr>\n",
       "      <th>1319</th>\n",
       "      <td>HP</td>\n",
       "      <td>15-AC110nv (i7-6500U/6GB/1TB/Radeon</td>\n",
       "      <td>Notebook</td>\n",
       "      <td>15.6</td>\n",
       "      <td>1366x768</td>\n",
       "      <td>Intel Core i7 6500U 2.5GHz</td>\n",
       "      <td>6GB</td>\n",
       "      <td>1TB HDD</td>\n",
       "      <td>AMD Radeon R5 M330</td>\n",
       "      <td>Windows 10</td>\n",
       "      <td>2.19kg</td>\n",
       "      <td>764.0</td>\n",
       "    </tr>\n",
       "    <tr>\n",
       "      <th>1320</th>\n",
       "      <td>Asus</td>\n",
       "      <td>X553SA-XX031T (N3050/4GB/500GB/W10)</td>\n",
       "      <td>Notebook</td>\n",
       "      <td>15.6</td>\n",
       "      <td>1366x768</td>\n",
       "      <td>Intel Celeron Dual Core N3050 1.6GHz</td>\n",
       "      <td>4GB</td>\n",
       "      <td>500GB HDD</td>\n",
       "      <td>Intel HD Graphics</td>\n",
       "      <td>Windows 10</td>\n",
       "      <td>2.2kg</td>\n",
       "      <td>369.0</td>\n",
       "    </tr>\n",
       "  </tbody>\n",
       "</table>\n",
       "</div>"
      ],
      "text/plain": [
       "     Company                              Product           Type-Name  Inches  \\\n",
       "1316  Lenovo                       Yoga 500-14ISK  2 in 1 Convertible    14.0   \n",
       "1317  Lenovo                       Yoga 900-13ISK  2 in 1 Convertible    13.3   \n",
       "1318  Lenovo                   IdeaPad 100S-14IBR            Notebook    14.0   \n",
       "1319      HP  15-AC110nv (i7-6500U/6GB/1TB/Radeon            Notebook    15.6   \n",
       "1320    Asus  X553SA-XX031T (N3050/4GB/500GB/W10)            Notebook    15.6   \n",
       "\n",
       "                               Screen-Resolution  \\\n",
       "1316   IPS Panel Full HD / Touchscreen 1920x1080   \n",
       "1317  IPS Panel Quad HD+ / Touchscreen 3200x1800   \n",
       "1318                                    1366x768   \n",
       "1319                                    1366x768   \n",
       "1320                                    1366x768   \n",
       "\n",
       "                                       Cpu   Ram              Memory  \\\n",
       "1316            Intel Core i7 6500U 2.5GHz   4GB           128GB SSD   \n",
       "1317            Intel Core i7 6500U 2.5GHz  16GB           512GB SSD   \n",
       "1318  Intel Celeron Dual Core N3050 1.6GHz   2GB  64GB Flash Storage   \n",
       "1319            Intel Core i7 6500U 2.5GHz   6GB             1TB HDD   \n",
       "1320  Intel Celeron Dual Core N3050 1.6GHz   4GB           500GB HDD   \n",
       "\n",
       "                        Gpu       OpSys  Weight  Price(euros)  \n",
       "1316  Intel HD Graphics 520  Windows 10   1.8kg         638.0  \n",
       "1317  Intel HD Graphics 520  Windows 10   1.3kg        1499.0  \n",
       "1318      Intel HD Graphics  Windows 10   1.5kg         229.0  \n",
       "1319     AMD Radeon R5 M330  Windows 10  2.19kg         764.0  \n",
       "1320      Intel HD Graphics  Windows 10   2.2kg         369.0  "
      ]
     },
     "execution_count": 2,
     "metadata": {},
     "output_type": "execute_result"
    }
   ],
   "source": [
    "#Your Code Here\n",
    "\n",
    "laptops.tail()"
   ]
  },
  {
   "cell_type": "markdown",
   "metadata": {},
   "source": [
    "#### Formatting column headers\n",
    "\n",
    "Column headers are typically made lower case and use underscores to separate words. This convention makes it easy to access columns when slicing.\n",
    "\n",
    "1. Iterate through the columns. You can access columns of a dataframe with the ```.columns``` accessor.\n",
    "2. Use the ```.lower()``` and ```.strip()``` method on each element of columns and make all columns lowercase and remove extra spaces.\n",
    "3. Assign the new list to the original dataframe again by accessing it with columns. Hint ```laptops.columns = #your solution here```\n",
    "\n",
    "Bonus: Do steps 1-3 in a one line command. Hint use list comprehension."
   ]
  },
  {
   "cell_type": "code",
   "execution_count": 3,
   "metadata": {},
   "outputs": [
    {
     "data": {
      "text/plain": [
       "Index(['company', 'product', 'type-name', 'inches', 'screen-resolution', 'cpu',\n",
       "       'ram', 'memory', 'gpu', 'opsys', 'weight', 'price(euros)'],\n",
       "      dtype='object')"
      ]
     },
     "execution_count": 3,
     "metadata": {},
     "output_type": "execute_result"
    }
   ],
   "source": [
    "#Your Code Here\n",
    "\n",
    "laptops.columns = [col.lower().strip() for col in laptops.columns]\n",
    "laptops.columns"
   ]
  },
  {
   "cell_type": "markdown",
   "metadata": {},
   "source": [
    "Create a cleaning function to further clean the column names.\n",
    "\n",
    "The function should take in a string and do the following:\n",
    "1. Change the 'opsys' column to 'os' using the ```.replace()``` method\n",
    "2. Add an _ for any spaces between words.\n",
    "3. Remove any ( or ) characters\n",
    "\n",
    "The function should return a string. Use your function in the list comprehension and assign the new values to the dataframe column headers. "
   ]
  },
  {
   "cell_type": "code",
   "execution_count": 4,
   "metadata": {},
   "outputs": [
    {
     "data": {
      "text/plain": [
       "'priceeuros'"
      ]
     },
     "execution_count": 4,
     "metadata": {},
     "output_type": "execute_result"
    }
   ],
   "source": [
    "string = \"price(euros)\"\n",
    "\n",
    "def cleaner(string):\n",
    "        string = string.replace(\"-\",\"_\")\n",
    "        string = string.replace(\"(\",\"\").replace(\")\",\"\")\n",
    "        if string == \"opsys\":\n",
    "            string = string.replace(\"opsys\",\"os\")\n",
    "    #Your Code Here\n",
    "        return string\n",
    "\n",
    "cleaner(string)"
   ]
  },
  {
   "cell_type": "code",
   "execution_count": 5,
   "metadata": {},
   "outputs": [
    {
     "data": {
      "text/plain": [
       "Index(['company', 'product', 'type_name', 'inches', 'screen_resolution', 'cpu',\n",
       "       'ram', 'memory', 'gpu', 'os', 'weight', 'priceeuros'],\n",
       "      dtype='object')"
      ]
     },
     "execution_count": 5,
     "metadata": {},
     "output_type": "execute_result"
    }
   ],
   "source": [
    "#Run when your function is ready\n",
    "#Add your function here.\n",
    "laptops.columns = [cleaner(col) for col in laptops.columns]\n",
    "laptops.columns"
   ]
  },
  {
   "cell_type": "markdown",
   "metadata": {},
   "source": [
    "#### Modify Column Data\n",
    "\n",
    "Inspect the 'ram' column. Right now this column isn't useful because we have numeric and text data mixed. How do you think we can make it useful as a numeric column?\n",
    "\n",
    "1. Use the ```Series.unique()``` method and identify the unique values in the column. Print out the result.\n",
    "2. Use what you learned in the above cell to call ```Series.str.replace()``` and remove the text from the 'ram' column.\n",
    "3. Assign the result back to the laptops 'ram' column.\n",
    "4. Use ```.info()``` and inspect the column's datatype. What do you notice?\n"
   ]
  },
  {
   "cell_type": "code",
   "execution_count": 6,
   "metadata": {},
   "outputs": [
    {
     "data": {
      "text/plain": [
       "'16'"
      ]
     },
     "execution_count": 6,
     "metadata": {},
     "output_type": "execute_result"
    }
   ],
   "source": [
    "#Your Code Here\n",
    "\n",
    "def cleaner_ram(string):\n",
    "        string = string.replace(\"GB\",\"\")\n",
    "    #Your Code Here\n",
    "        return string\n",
    "    \n",
    "cleaner_ram('16GB')\n"
   ]
  },
  {
   "cell_type": "code",
   "execution_count": 7,
   "metadata": {},
   "outputs": [
    {
     "name": "stdout",
     "output_type": "stream",
     "text": [
      "<class 'pandas.core.frame.DataFrame'>\n",
      "Int64Index: 1303 entries, 1 to 1320\n",
      "Data columns (total 12 columns):\n",
      "company              1303 non-null object\n",
      "product              1303 non-null object\n",
      "type_name            1303 non-null object\n",
      "inches               1303 non-null float64\n",
      "screen_resolution    1303 non-null object\n",
      "cpu                  1303 non-null object\n",
      "ram                  1303 non-null object\n",
      "memory               1303 non-null object\n",
      "gpu                  1303 non-null object\n",
      "os                   1303 non-null object\n",
      "weight               1303 non-null object\n",
      "priceeuros           1303 non-null float64\n",
      "dtypes: float64(2), object(10)\n",
      "memory usage: 132.3+ KB\n"
     ]
    }
   ],
   "source": [
    "laptops['ram']\n",
    "laptops['ram'] = [cleaner_ram(x) for x in laptops['ram']]\n",
    "laptops.info()"
   ]
  },
  {
   "cell_type": "markdown",
   "metadata": {},
   "source": [
    "We changed the 'ram' column to only numeric values. Notice how when we called ```.info()``` it was still an object datatype? We need to transform the column to a numeric only type.\n",
    "\n",
    "1. Use ```.astype()``` to convert ```laptops['ram']``` to an appropriate datatype"
   ]
  },
  {
   "cell_type": "code",
   "execution_count": 8,
   "metadata": {},
   "outputs": [
    {
     "name": "stdout",
     "output_type": "stream",
     "text": [
      "<class 'pandas.core.frame.DataFrame'>\n",
      "Int64Index: 1303 entries, 1 to 1320\n",
      "Data columns (total 12 columns):\n",
      "company              1303 non-null object\n",
      "product              1303 non-null object\n",
      "type_name            1303 non-null object\n",
      "inches               1303 non-null float64\n",
      "screen_resolution    1303 non-null object\n",
      "cpu                  1303 non-null object\n",
      "ram                  1303 non-null float64\n",
      "memory               1303 non-null object\n",
      "gpu                  1303 non-null object\n",
      "os                   1303 non-null object\n",
      "weight               1303 non-null object\n",
      "priceeuros           1303 non-null float64\n",
      "dtypes: float64(3), object(9)\n",
      "memory usage: 132.3+ KB\n"
     ]
    }
   ],
   "source": [
    "laptops['ram'] = laptops['ram'].astype('float64')\n",
    "laptops.info()\n",
    "\n",
    "#Your Code Here"
   ]
  },
  {
   "cell_type": "markdown",
   "metadata": {},
   "source": [
    "#### Extracting and Mapping Data\n",
    "\n",
    "1. Run value counts on the 'gpu' column. How many different GPUs are there?\n",
    "2. The example code reuces the 'gpu' column to a handful of manufacturers and saves the result in a new column.\n",
    "3. Investigate the 'cpu' column. \n",
    "    - Can we reduce the number of manufactuerers like we did for 'gpu'? \n",
    "    - Save the result in a new column under the name 'cpu manifacturers'\n",
    "    - How many cpu manufacturers are there?"
   ]
  },
  {
   "cell_type": "code",
   "execution_count": 9,
   "metadata": {},
   "outputs": [
    {
     "data": {
      "text/plain": [
       "Intel     722\n",
       "Nvidia    400\n",
       "AMD       180\n",
       "ARM         1\n",
       "Name: gpu_manufacturer, dtype: int64"
      ]
     },
     "execution_count": 9,
     "metadata": {},
     "output_type": "execute_result"
    }
   ],
   "source": [
    "laptops[\"gpu_manufacturer\"] = (laptops[\"gpu\"]\n",
    "                                       .str.split()\n",
    "                                       .str[0]\n",
    "                              )\n",
    "#Your Code Here\n",
    "laptops[\"gpu_manufacturer\"].value_counts()"
   ]
  },
  {
   "cell_type": "code",
   "execution_count": 10,
   "metadata": {},
   "outputs": [
    {
     "data": {
      "text/plain": [
       "Intel      1240\n",
       "AMD          62\n",
       "Samsung       1\n",
       "Name: cpu_manufacturer, dtype: int64"
      ]
     },
     "execution_count": 10,
     "metadata": {},
     "output_type": "execute_result"
    }
   ],
   "source": [
    "#Your Code Here\n",
    "laptops['cpu'].value_counts()\n",
    "laptops[\"cpu_manufacturer\"] = (laptops[\"cpu\"]\n",
    "                                       .str.split()\n",
    "                                       .str[0]\n",
    "                              )\n",
    "laptops[\"cpu_manufacturer\"].value_counts()"
   ]
  },
  {
   "cell_type": "markdown",
   "metadata": {},
   "source": [
    "\n",
    "We can change elements within a series or dataframe with a map. A map is a dictionary that tells the function which vlaues to change, and what they should be changed to.\n",
    "​\n",
    "1. Use ```.value_counts()``` to inspect the values in the 'os' column\n",
    "2. Define a map that standardizes the entries. I.e. Windows 7 and Windows 10 S would become windows\n",
    "3. Use the method ```Series.map()``` with the dictionary to change the values in the 'os' column. Reassign your result back to the 'os' column."
   ]
  },
  {
   "cell_type": "code",
   "execution_count": 11,
   "metadata": {},
   "outputs": [
    {
     "data": {
      "text/plain": [
       "Windows 10      1072\n",
       "No OS             66\n",
       "Linux             62\n",
       "Windows 7         45\n",
       "Chrome OS         27\n",
       "macOS             13\n",
       "Windows 10 S       8\n",
       "Mac OS X           8\n",
       "Android            2\n",
       "Name: os, dtype: int64"
      ]
     },
     "execution_count": 11,
     "metadata": {},
     "output_type": "execute_result"
    }
   ],
   "source": [
    "#Your Code Here\n",
    "laptops['os'].value_counts()"
   ]
  },
  {
   "cell_type": "code",
   "execution_count": 13,
   "metadata": {},
   "outputs": [
    {
     "data": {
      "text/plain": [
       "Windows    1125\n",
       "No           66\n",
       "Linux        62\n",
       "Chrome       27\n",
       "macOS        13\n",
       "Mac           8\n",
       "Android       2\n",
       "Name: os_new, dtype: int64"
      ]
     },
     "execution_count": 13,
     "metadata": {},
     "output_type": "execute_result"
    }
   ],
   "source": [
    "laptops['os_new'] = laptops['os'].apply(lambda x: x.split()[0])\n",
    "    \n",
    "laptops['os_new'].value_counts()"
   ]
  },
  {
   "cell_type": "code",
   "execution_count": 15,
   "metadata": {},
   "outputs": [],
   "source": [
    "laptops['os'] = laptops['os_new']"
   ]
  },
  {
   "cell_type": "code",
   "execution_count": 16,
   "metadata": {},
   "outputs": [
    {
     "data": {
      "text/plain": [
       "1         macOS\n",
       "2         macOS\n",
       "3            No\n",
       "4         macOS\n",
       "5         macOS\n",
       "6       Windows\n",
       "7           Mac\n",
       "8         macOS\n",
       "9       Windows\n",
       "10      Windows\n",
       "11           No\n",
       "12           No\n",
       "13        macOS\n",
       "14      Windows\n",
       "15        macOS\n",
       "16        macOS\n",
       "17      Windows\n",
       "18        macOS\n",
       "19           No\n",
       "20      Windows\n",
       "21      Windows\n",
       "22      Windows\n",
       "23           No\n",
       "24      Windows\n",
       "25      Windows\n",
       "26      Windows\n",
       "27          Mac\n",
       "28      Windows\n",
       "29      Windows\n",
       "30      Windows\n",
       "         ...   \n",
       "1291    Windows\n",
       "1292    Windows\n",
       "1293    Windows\n",
       "1294    Windows\n",
       "1295      Linux\n",
       "1296    Windows\n",
       "1297    Windows\n",
       "1298    Windows\n",
       "1299      Linux\n",
       "1300    Windows\n",
       "1301    Windows\n",
       "1302    Windows\n",
       "1303    Windows\n",
       "1304    Windows\n",
       "1305    Windows\n",
       "1306    Windows\n",
       "1307    Windows\n",
       "1308    Windows\n",
       "1309      Linux\n",
       "1310    Windows\n",
       "1311    Windows\n",
       "1312    Windows\n",
       "1313      Linux\n",
       "1314    Windows\n",
       "1315    Windows\n",
       "1316    Windows\n",
       "1317    Windows\n",
       "1318    Windows\n",
       "1319    Windows\n",
       "1320    Windows\n",
       "Name: os, Length: 1303, dtype: object"
      ]
     },
     "execution_count": 16,
     "metadata": {},
     "output_type": "execute_result"
    }
   ],
   "source": [
    "#Your Code Here\n",
    "\n",
    "\n",
    "laptops['os']"
   ]
  },
  {
   "cell_type": "code",
   "execution_count": null,
   "metadata": {},
   "outputs": [],
   "source": []
  },
  {
   "cell_type": "markdown",
   "metadata": {},
   "source": [
    "#### Dropping missing values\n",
    "1. We can inspect the number of nan values in each column with the .isnull() method.\n",
    "    - How many missing values are there in each column?\n",
    "    - Are there any columns with only nan values?\n",
    "    - What percentage of missing values are there per row?\n",
    "2. Use the .dropna() method to drop any rows with missing values.\n",
    "3. On a copy of the laptops dataframe drop any columns that have missing values with .dropna()"
   ]
  },
  {
   "cell_type": "code",
   "execution_count": 23,
   "metadata": {},
   "outputs": [
    {
     "name": "stdout",
     "output_type": "stream",
     "text": [
      "<class 'pandas.core.frame.DataFrame'>\n",
      "Int64Index: 1303 entries, 1 to 1320\n",
      "Data columns (total 15 columns):\n",
      "company              1303 non-null object\n",
      "product              1303 non-null object\n",
      "type_name            1303 non-null object\n",
      "inches               1303 non-null float64\n",
      "screen_resolution    1303 non-null object\n",
      "cpu                  1303 non-null object\n",
      "ram                  1303 non-null float64\n",
      "memory               1303 non-null object\n",
      "gpu                  1303 non-null object\n",
      "os                   1303 non-null object\n",
      "weight               1303 non-null object\n",
      "priceeuros           1303 non-null float64\n",
      "gpu_manufacturer     1303 non-null object\n",
      "cpu_manufacturer     1303 non-null object\n",
      "os_new               1303 non-null object\n",
      "dtypes: float64(3), object(12)\n",
      "memory usage: 162.9+ KB\n"
     ]
    }
   ],
   "source": [
    "#Your Code Here\n",
    "\n",
    "laptops.info()\n"
   ]
  },
  {
   "cell_type": "code",
   "execution_count": 21,
   "metadata": {},
   "outputs": [
    {
     "data": {
      "text/plain": [
       "company               0.000000\n",
       "product               0.000000\n",
       "type-name             0.000000\n",
       "inches                0.000000\n",
       "screen-resolution     0.000000\n",
       "cpu                   0.000000\n",
       "ram                   0.000000\n",
       "memory                0.000000\n",
       "gpu                   0.000000\n",
       "os                   82.271681\n",
       "weight                0.000000\n",
       "priceeuros            0.000000\n",
       "gpu_manufacturer      0.000000\n",
       "cpu_manufacturer      0.000000\n",
       "dtype: float64"
      ]
     },
     "execution_count": 21,
     "metadata": {},
     "output_type": "execute_result"
    }
   ],
   "source": [
    "#Your Code Here"
   ]
  },
  {
   "cell_type": "code",
   "execution_count": 17,
   "metadata": {},
   "outputs": [],
   "source": [
    "#Your Code Here"
   ]
  },
  {
   "cell_type": "markdown",
   "metadata": {},
   "source": [
    "#### Binning: Discreet to categorial\n",
    "1. Investigate the 'inches' column with .value_counts()\n",
    "    - Is the information useful in its current form?\n",
    "    - If no, how can we make this information more useful?\n",
    "2. Use pd.cut() to construct three bins from the 'inches' column\n",
    "3. Assign the result to a new column 'screen_size'.\n",
    "4. Call .value_counts() on the new column.\n",
    "    - Is this more useful to categorize laptops by screen size?\n",
    "    - How useful/not useful is doing something like this?\n",
    "    - When would this make sense to do?"
   ]
  },
  {
   "cell_type": "code",
   "execution_count": 25,
   "metadata": {},
   "outputs": [
    {
     "data": {
      "text/plain": [
       "15.6    665\n",
       "14.0    197\n",
       "13.3    164\n",
       "17.3    164\n",
       "12.5     39\n",
       "11.6     33\n",
       "13.9      6\n",
       "13.5      6\n",
       "12.0      6\n",
       "12.3      5\n",
       "15.4      4\n",
       "10.1      4\n",
       "15.0      4\n",
       "13.0      2\n",
       "18.4      1\n",
       "14.1      1\n",
       "17.0      1\n",
       "11.3      1\n",
       "Name: inches, dtype: int64"
      ]
     },
     "execution_count": 25,
     "metadata": {},
     "output_type": "execute_result"
    }
   ],
   "source": [
    "#Your Code Here\n",
    "laptops['inches'].value_counts()\n"
   ]
  },
  {
   "cell_type": "code",
   "execution_count": 26,
   "metadata": {},
   "outputs": [
    {
     "data": {
      "text/plain": [
       "(12.867, 15.633]    1049\n",
       "(15.633, 18.4]       166\n",
       "(10.092, 12.867]      88\n",
       "Name: screen_size, dtype: int64"
      ]
     },
     "execution_count": 26,
     "metadata": {},
     "output_type": "execute_result"
    }
   ],
   "source": [
    "laptops['screen_size']=pd.cut(laptops['inches'],3)\n",
    "laptops['screen_size'].value_counts()"
   ]
  },
  {
   "cell_type": "markdown",
   "metadata": {},
   "source": [
    "#### Conversions and exporting\n",
    "1. Convert the values in the weight column to numeric values.\n",
    "2. Rename the weight column to weight_kg.\n",
    "3. Use the .to_csv() method to save the laptops dataframe to a CSV file laptops_cleaned.csv without index labels."
   ]
  },
  {
   "cell_type": "code",
   "execution_count": 42,
   "metadata": {},
   "outputs": [
    {
     "name": "stdout",
     "output_type": "stream",
     "text": [
      "<class 'pandas.core.frame.DataFrame'>\n",
      "Int64Index: 1303 entries, 1 to 1320\n",
      "Data columns (total 16 columns):\n",
      "company              1303 non-null object\n",
      "product              1303 non-null object\n",
      "type_name            1303 non-null object\n",
      "inches               1303 non-null float64\n",
      "screen_resolution    1303 non-null object\n",
      "cpu                  1303 non-null object\n",
      "ram                  1303 non-null float64\n",
      "memory               1303 non-null object\n",
      "gpu                  1303 non-null object\n",
      "os                   1303 non-null object\n",
      "weight_kg            1303 non-null object\n",
      "priceeuros           1303 non-null float64\n",
      "gpu_manufacturer     1303 non-null object\n",
      "cpu_manufacturer     1303 non-null object\n",
      "os_new               1303 non-null object\n",
      "screen_size          1303 non-null category\n",
      "dtypes: category(1), float64(3), object(12)\n",
      "memory usage: 164.2+ KB\n"
     ]
    }
   ],
   "source": [
    "#Your Code Here\n",
    "laptops['weight'].value_counts()\n",
    "\n",
    "def clean_w(s):\n",
    "    s = s.replace('kg',' ')\n",
    "    return s\n",
    "\n",
    "clean_w('2.2kg')\n",
    "\n",
    "laptops['weight'] = [clean_w(s) for s in laptops['weight']]\n",
    "laptops['weight'].value_counts()\n",
    "\n",
    "laptops.rename(columns={'weight':'weight_kg'},inplace=True)\n",
    "laptops.info()"
   ]
  },
  {
   "cell_type": "code",
   "execution_count": null,
   "metadata": {},
   "outputs": [],
   "source": []
  }
 ],
 "metadata": {
  "kernelspec": {
   "display_name": "Python 3",
   "language": "python",
   "name": "python3"
  },
  "language_info": {
   "codemirror_mode": {
    "name": "ipython",
    "version": 3
   },
   "file_extension": ".py",
   "mimetype": "text/x-python",
   "name": "python",
   "nbconvert_exporter": "python",
   "pygments_lexer": "ipython3",
   "version": "3.6.9"
  }
 },
 "nbformat": 4,
 "nbformat_minor": 2
}
