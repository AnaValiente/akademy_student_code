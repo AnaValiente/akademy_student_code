{
 "cells": [
  {
   "cell_type": "markdown",
   "metadata": {},
   "source": [
    "## Introduction to Data Cleaning\n",
    "\n",
    "Run the first cell and import the laptops dataset.\n",
    "\n",
    "You can find more information about the laptops dataset from the [kaggle data source](https://www.kaggle.com/ionaskel/laptop-prices)\n",
    "\n",
    "We've also used the .info() command to pring the columns, number of values, and type of each column."
   ]
  },
  {
   "cell_type": "code",
   "execution_count": 2,
   "metadata": {},
   "outputs": [
    {
     "name": "stdout",
     "output_type": "stream",
     "text": [
      "<class 'pandas.core.frame.DataFrame'>\n",
      "Int64Index: 1303 entries, 1 to 1320\n",
      "Data columns (total 12 columns):\n",
      "Company              1303 non-null object\n",
      "Product              1303 non-null object\n",
      "Type-Name            1303 non-null object\n",
      "Inches               1303 non-null float64\n",
      "Screen-Resolution    1303 non-null object\n",
      "Cpu                  1303 non-null object\n",
      "Ram                  1303 non-null object\n",
      "Memory               1303 non-null object\n",
      "Gpu                  1303 non-null object\n",
      "OpSys                1303 non-null object\n",
      "Weight               1303 non-null object\n",
      "Price(euros)         1303 non-null float64\n",
      "dtypes: float64(2), object(10)\n",
      "memory usage: 132.3+ KB\n",
      "None\n"
     ]
    }
   ],
   "source": [
    "import pandas as pd\n",
    "laptops = pd.read_csv(\"./laptops-raw.csv\", encoding = \"Latin-1\", index_col=0)\n",
    "print(laptops.info())"
   ]
  },
  {
   "cell_type": "markdown",
   "metadata": {},
   "source": [
    "Use ```head()``` and inspect the first few rows of the dataframe. Think about the folowing questions when first lookign at your data.\n",
    "\n",
    "Do we have any missing values?\n",
    "What are some things you think might need cleaning?\n",
    "Are column headers all uniform?\n",
    "Are there columns with multiple similar entries?\n",
    "Are there columns that contain numeric and text information?\n",
    "How could we transform categorical features into numeric?"
   ]
  },
  {
   "cell_type": "code",
   "execution_count": 22,
   "metadata": {},
   "outputs": [],
   "source": [
    "#Your Code Here"
   ]
  },
  {
   "cell_type": "markdown",
   "metadata": {},
   "source": [
    "#### Formatting column headers\n",
    "\n",
    "Column headers are typically made lower case and use underscores to separate words. This convention makes it easy to access columns when slicing.\n",
    "\n",
    "1. Iterate through the columns. You can access columns of a dataframe with the ```.columns``` accessor.\n",
    "2. Use the ```.lower()``` and ```.strip()``` method on each element of columns and make all columns lowercase and remove extra spaces.\n",
    "3. Assign the new list to the original dataframe again by accessing it with columns. Hint ```laptops.columns = #your solution here```\n",
    "\n",
    "Bonus: Do steps 1-3 in a one line command. Hint use list comprehension."
   ]
  },
  {
   "cell_type": "code",
   "execution_count": 23,
   "metadata": {},
   "outputs": [],
   "source": [
    "#Your Code Here\n",
    "\n"
   ]
  },
  {
   "cell_type": "markdown",
   "metadata": {},
   "source": [
    "Create a cleaning function to further clean the column names.\n",
    "\n",
    "The function should take in a string and do the following:\n",
    "1. Change the 'opsys' column to 'os' using the ```.replace()``` method\n",
    "2. Add an _ for any spaces between words.\n",
    "3. Remove any ( or ) characters\n",
    "\n",
    "The function should return a string. Use your function in the list comprehension and assign the new values to the dataframe column headers. "
   ]
  },
  {
   "cell_type": "code",
   "execution_count": 12,
   "metadata": {},
   "outputs": [],
   "source": [
    "def cleaner(string):\n",
    "    #Your Code Here\n",
    "    return string"
   ]
  },
  {
   "cell_type": "code",
   "execution_count": 13,
   "metadata": {},
   "outputs": [
    {
     "data": {
      "text/plain": [
       "Index(['company', 'product', 'type-name', 'inches', 'screen-resolution', 'cpu',\n",
       "       'ram', 'memory', 'gpu', 'os', 'weight', 'priceeuros'],\n",
       "      dtype='object')"
      ]
     },
     "execution_count": 13,
     "metadata": {},
     "output_type": "execute_result"
    }
   ],
   "source": [
    "#Run when your function is ready\n",
    "#Add your function here.\n",
    "laptops.columns = [cleaner(col) for col in laptops.columns]\n",
    "laptops.columns"
   ]
  },
  {
   "cell_type": "markdown",
   "metadata": {},
   "source": [
    "#### Modify Column Data\n",
    "\n",
    "Inspect the 'ram' column. Right now this column isn't useful because we have numeric and text data mixed. How do you think we can make it useful as a numeric column?\n",
    "\n",
    "1. Use the ```Series.unique()``` method and identify the unique values in the column. Print out the result.\n",
    "2. Use what you learned in the above cell to call ```Series.str.replace()``` and remove the text from the 'ram' column.\n",
    "3. Assign the result back to the laptops 'ram' column.\n",
    "4. Use ```.info()``` and inspect the column's datatype. What do you notice?\n"
   ]
  },
  {
   "cell_type": "code",
   "execution_count": 24,
   "metadata": {},
   "outputs": [],
   "source": [
    "#Your Code Here"
   ]
  },
  {
   "cell_type": "markdown",
   "metadata": {},
   "source": [
    "We changed the 'ram' column to only numeric values. Notice how when we called ```.info()``` it was still an object datatype? We need to transform the column to a numeric only type.\n",
    "\n",
    "1. Use ```.astype()``` to convert ```laptops['ram']``` to an appropriate datatype"
   ]
  },
  {
   "cell_type": "code",
   "execution_count": 10,
   "metadata": {},
   "outputs": [],
   "source": [
    "#Your Code Here"
   ]
  },
  {
   "cell_type": "markdown",
   "metadata": {},
   "source": [
    "#### Extracting and Mapping Data\n",
    "\n",
    "1. Run value counts on the 'gpu' column. How many different GPUs are there?\n",
    "2. The example code reuces the 'gpu' column to a handful of manufacturers and saves the result in a new column.\n",
    "3. Investigate the 'cpu' column. \n",
    "    - Can we reduce the number of manufactuerers like we did for 'gpu'? \n",
    "    - Save the result in a new column under the name 'cpu manifacturers'\n",
    "    - How many cpu manufacturers are there?"
   ]
  },
  {
   "cell_type": "code",
   "execution_count": 17,
   "metadata": {},
   "outputs": [
    {
     "data": {
      "text/plain": [
       "Intel HD Graphics 620      281\n",
       "Intel HD Graphics 520      185\n",
       "Intel UHD Graphics 620      68\n",
       "Nvidia GeForce GTX 1050     66\n",
       "Nvidia GeForce GTX 1060     48\n",
       "                          ... \n",
       "Intel HD Graphics 530        1\n",
       "AMD Radeon R7 M360           1\n",
       "AMD Radeon R9 M385           1\n",
       "AMD Radeon R5 520            1\n",
       "Nvidia GeForce 960M          1\n",
       "Name: gpu, Length: 110, dtype: int64"
      ]
     },
     "execution_count": 17,
     "metadata": {},
     "output_type": "execute_result"
    }
   ],
   "source": [
    "#Your Code Here"
   ]
  },
  {
   "cell_type": "code",
   "execution_count": 18,
   "metadata": {},
   "outputs": [
    {
     "data": {
      "text/plain": [
       "Intel      1240\n",
       "AMD          62\n",
       "Samsung       1\n",
       "Name: cpu_manufacturer, dtype: int64"
      ]
     },
     "execution_count": 18,
     "metadata": {},
     "output_type": "execute_result"
    }
   ],
   "source": [
    "laptops[\"gpu_manufacturer\"] = (laptops[\"gpu\"]\n",
    "                                       .str.split()\n",
    "                                       .str[0]\n",
    "                              )\n",
    "#Your Code Here\n"
   ]
  },
  {
   "cell_type": "markdown",
   "metadata": {},
   "source": [
    "\n",
    "We can change elements within a series or dataframe with a map. A map is a dictionary that tells the function which vlaues to change, and what they should be changed to.\n",
    "​\n",
    "1. Use ```.value_counts()``` to inspect the values in the 'os' column\n",
    "2. Define a map that standardizes the entries. I.e. Windows 7 and Windows 10 S would become windows\n",
    "3. Use the method ```Series.map()``` with the dictionary to change the values in the 'os' column. Reassign your result back to the 'os' column."
   ]
  },
  {
   "cell_type": "code",
   "execution_count": 14,
   "metadata": {},
   "outputs": [
    {
     "data": {
      "text/plain": [
       "Windows 10      1072\n",
       "No OS             66\n",
       "Linux             62\n",
       "Windows 7         45\n",
       "Chrome OS         27\n",
       "macOS             13\n",
       "Mac OS X           8\n",
       "Windows 10 S       8\n",
       "Android            2\n",
       "Name: os, dtype: int64"
      ]
     },
     "execution_count": 14,
     "metadata": {},
     "output_type": "execute_result"
    }
   ],
   "source": [
    "#Your Code Here"
   ]
  },
  {
   "cell_type": "code",
   "execution_count": 19,
   "metadata": {},
   "outputs": [
    {
     "data": {
      "text/plain": [
       "1       macOS\n",
       "2       macOS\n",
       "3       No OS\n",
       "4       macOS\n",
       "5       macOS\n",
       "        ...  \n",
       "1316      NaN\n",
       "1317      NaN\n",
       "1318      NaN\n",
       "1319      NaN\n",
       "1320      NaN\n",
       "Name: os, Length: 1303, dtype: object"
      ]
     },
     "execution_count": 19,
     "metadata": {},
     "output_type": "execute_result"
    }
   ],
   "source": [
    "#Your Code Here\n",
    "\n",
    "\n",
    "laptops['os']"
   ]
  },
  {
   "cell_type": "markdown",
   "metadata": {},
   "source": [
    "#### Dropping missing values\n",
    "1. We can inspect the number of nan values in each column with the .isnull() method.\n",
    "    - How many missing values are there in each column?\n",
    "    - Are there any columns with only nan values?\n",
    "    - What percentage of missing values are there per row?\n",
    "2. Use the .dropna() method to drop any rows with missing values.\n",
    "3. On a copy of the laptops dataframe drop any columns that have missing values with .dropna()"
   ]
  },
  {
   "cell_type": "code",
   "execution_count": 25,
   "metadata": {},
   "outputs": [],
   "source": [
    "#Your Code Here"
   ]
  },
  {
   "cell_type": "code",
   "execution_count": 21,
   "metadata": {},
   "outputs": [
    {
     "data": {
      "text/plain": [
       "company               0.000000\n",
       "product               0.000000\n",
       "type-name             0.000000\n",
       "inches                0.000000\n",
       "screen-resolution     0.000000\n",
       "cpu                   0.000000\n",
       "ram                   0.000000\n",
       "memory                0.000000\n",
       "gpu                   0.000000\n",
       "os                   82.271681\n",
       "weight                0.000000\n",
       "priceeuros            0.000000\n",
       "gpu_manufacturer      0.000000\n",
       "cpu_manufacturer      0.000000\n",
       "dtype: float64"
      ]
     },
     "execution_count": 21,
     "metadata": {},
     "output_type": "execute_result"
    }
   ],
   "source": [
    "#Your Code Here"
   ]
  },
  {
   "cell_type": "code",
   "execution_count": 17,
   "metadata": {},
   "outputs": [],
   "source": [
    "#Your Code Here"
   ]
  },
  {
   "cell_type": "markdown",
   "metadata": {},
   "source": [
    "#### Binning: Discreet to categorial\n",
    "1. Investigate the 'inches' column with .value_counts()\n",
    "    - Is the information useful in its current form?\n",
    "    - If no, how can we make this information more useful?\n",
    "2. Use pd.cut() to construct three bins from the 'inches' column\n",
    "3. Assign the result to a new column 'screen_size'.\n",
    "4. Call .value_counts() on the new column.\n",
    "    - Is this more useful to categorize laptops by screen size?\n",
    "    - How useful/not useful is doing something like this?\n",
    "    - When would this make sense to do?"
   ]
  },
  {
   "cell_type": "code",
   "execution_count": null,
   "metadata": {},
   "outputs": [],
   "source": [
    "#Your Code Here"
   ]
  },
  {
   "cell_type": "markdown",
   "metadata": {},
   "source": [
    "#### Conversions and exporting\n",
    "1. Convert the values in the weight column to numeric values.\n",
    "2. Rename the weight column to weight_kg.\n",
    "3. Use the .to_csv() method to save the laptops dataframe to a CSV file laptops_cleaned.csv without index labels."
   ]
  },
  {
   "cell_type": "code",
   "execution_count": null,
   "metadata": {},
   "outputs": [],
   "source": [
    "#Your Code Here"
   ]
  }
 ],
 "metadata": {
  "kernelspec": {
   "display_name": "Python 3",
   "language": "python",
   "name": "python3"
  },
  "language_info": {
   "codemirror_mode": {
    "name": "ipython",
    "version": 3
   },
   "file_extension": ".py",
   "mimetype": "text/x-python",
   "name": "python",
   "nbconvert_exporter": "python",
   "pygments_lexer": "ipython3",
   "version": "3.7.3"
  }
 },
 "nbformat": 4,
 "nbformat_minor": 2
}
