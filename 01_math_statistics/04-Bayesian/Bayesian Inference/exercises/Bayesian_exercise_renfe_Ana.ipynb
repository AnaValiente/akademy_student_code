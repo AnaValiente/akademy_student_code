{
 "cells": [
  {
   "cell_type": "code",
   "execution_count": 1,
   "metadata": {},
   "outputs": [],
   "source": [
    "from scipy import stats\n",
    "import numpy as np\n",
    "import matplotlib.pyplot as plt\n",
    "%matplotlib inline\n",
    "import seaborn as sns\n",
    "import pandas as pd\n",
    "import pymc3 as pm\n",
    "from theano import shared\n",
    "from sklearn import preprocessing\n"
   ]
  },
  {
   "cell_type": "code",
   "execution_count": null,
   "metadata": {},
   "outputs": [],
   "source": [
    "import arviz as az "
   ]
  },
  {
   "cell_type": "code",
   "execution_count": 17,
   "metadata": {},
   "outputs": [
    {
     "name": "stdout",
     "output_type": "stream",
     "text": [
      "Running on PyMC3 v3.7\n"
     ]
    }
   ],
   "source": [
    "print('Running on PyMC3 v{}'.format(pm.__version__))\n"
   ]
  },
  {
   "cell_type": "code",
   "execution_count": 2,
   "metadata": {},
   "outputs": [
    {
     "data": {
      "text/html": [
       "<div>\n",
       "<style scoped>\n",
       "    .dataframe tbody tr th:only-of-type {\n",
       "        vertical-align: middle;\n",
       "    }\n",
       "\n",
       "    .dataframe tbody tr th {\n",
       "        vertical-align: top;\n",
       "    }\n",
       "\n",
       "    .dataframe thead th {\n",
       "        text-align: right;\n",
       "    }\n",
       "</style>\n",
       "<table border=\"1\" class=\"dataframe\">\n",
       "  <thead>\n",
       "    <tr style=\"text-align: right;\">\n",
       "      <th></th>\n",
       "      <th>insert_date</th>\n",
       "      <th>origin</th>\n",
       "      <th>destination</th>\n",
       "      <th>start_date</th>\n",
       "      <th>end_date</th>\n",
       "      <th>train_type</th>\n",
       "      <th>price</th>\n",
       "      <th>train_class</th>\n",
       "      <th>fare</th>\n",
       "    </tr>\n",
       "  </thead>\n",
       "  <tbody>\n",
       "    <tr>\n",
       "      <th>0</th>\n",
       "      <td>2019-04-22 08:00:25</td>\n",
       "      <td>MADRID</td>\n",
       "      <td>SEVILLA</td>\n",
       "      <td>2019-04-28 08:30:00</td>\n",
       "      <td>2019-04-28 11:14:00</td>\n",
       "      <td>ALVIA</td>\n",
       "      <td>NaN</td>\n",
       "      <td>Turista</td>\n",
       "      <td>Flexible</td>\n",
       "    </tr>\n",
       "    <tr>\n",
       "      <th>1</th>\n",
       "      <td>2019-04-22 10:03:24</td>\n",
       "      <td>MADRID</td>\n",
       "      <td>VALENCIA</td>\n",
       "      <td>2019-05-20 06:45:00</td>\n",
       "      <td>2019-05-20 08:38:00</td>\n",
       "      <td>AVE</td>\n",
       "      <td>21.95</td>\n",
       "      <td>Turista</td>\n",
       "      <td>Promo</td>\n",
       "    </tr>\n",
       "    <tr>\n",
       "      <th>2</th>\n",
       "      <td>2019-04-25 19:19:46</td>\n",
       "      <td>MADRID</td>\n",
       "      <td>SEVILLA</td>\n",
       "      <td>2019-05-29 06:20:00</td>\n",
       "      <td>2019-05-29 09:16:00</td>\n",
       "      <td>AV City</td>\n",
       "      <td>38.55</td>\n",
       "      <td>Turista</td>\n",
       "      <td>Promo</td>\n",
       "    </tr>\n",
       "    <tr>\n",
       "      <th>3</th>\n",
       "      <td>2019-04-24 06:21:57</td>\n",
       "      <td>SEVILLA</td>\n",
       "      <td>MADRID</td>\n",
       "      <td>2019-05-03 08:35:00</td>\n",
       "      <td>2019-05-03 15:26:00</td>\n",
       "      <td>LD-MD</td>\n",
       "      <td>34.35</td>\n",
       "      <td>Turista con enlace</td>\n",
       "      <td>Promo +</td>\n",
       "    </tr>\n",
       "    <tr>\n",
       "      <th>4</th>\n",
       "      <td>2019-04-19 21:13:55</td>\n",
       "      <td>VALENCIA</td>\n",
       "      <td>MADRID</td>\n",
       "      <td>2019-05-10 09:40:00</td>\n",
       "      <td>2019-05-10 11:20:00</td>\n",
       "      <td>AVE</td>\n",
       "      <td>45.30</td>\n",
       "      <td>Turista</td>\n",
       "      <td>Promo</td>\n",
       "    </tr>\n",
       "    <tr>\n",
       "      <th>...</th>\n",
       "      <td>...</td>\n",
       "      <td>...</td>\n",
       "      <td>...</td>\n",
       "      <td>...</td>\n",
       "      <td>...</td>\n",
       "      <td>...</td>\n",
       "      <td>...</td>\n",
       "      <td>...</td>\n",
       "      <td>...</td>\n",
       "    </tr>\n",
       "    <tr>\n",
       "      <th>25793</th>\n",
       "      <td>2019-05-01 11:45:12</td>\n",
       "      <td>PONFERRADA</td>\n",
       "      <td>MADRID</td>\n",
       "      <td>2019-05-13 02:36:00</td>\n",
       "      <td>2019-05-13 09:31:00</td>\n",
       "      <td>TRENHOTEL</td>\n",
       "      <td>45.80</td>\n",
       "      <td>Turista</td>\n",
       "      <td>Flexible</td>\n",
       "    </tr>\n",
       "    <tr>\n",
       "      <th>25794</th>\n",
       "      <td>2019-04-24 19:26:17</td>\n",
       "      <td>MADRID</td>\n",
       "      <td>SEVILLA</td>\n",
       "      <td>2019-05-25 08:00:00</td>\n",
       "      <td>2019-05-25 10:32:00</td>\n",
       "      <td>AVE</td>\n",
       "      <td>61.45</td>\n",
       "      <td>Preferente</td>\n",
       "      <td>Promo</td>\n",
       "    </tr>\n",
       "    <tr>\n",
       "      <th>25795</th>\n",
       "      <td>2019-05-06 13:04:53</td>\n",
       "      <td>MADRID</td>\n",
       "      <td>SEVILLA</td>\n",
       "      <td>2019-05-26 18:00:00</td>\n",
       "      <td>2019-05-26 20:32:00</td>\n",
       "      <td>AVE</td>\n",
       "      <td>60.30</td>\n",
       "      <td>Turista</td>\n",
       "      <td>Promo</td>\n",
       "    </tr>\n",
       "    <tr>\n",
       "      <th>25796</th>\n",
       "      <td>2019-05-08 15:00:51</td>\n",
       "      <td>MADRID</td>\n",
       "      <td>SEVILLA</td>\n",
       "      <td>2019-05-14 13:10:00</td>\n",
       "      <td>2019-05-14 20:51:00</td>\n",
       "      <td>MD-LD</td>\n",
       "      <td>34.35</td>\n",
       "      <td>Turista con enlace</td>\n",
       "      <td>Promo +</td>\n",
       "    </tr>\n",
       "    <tr>\n",
       "      <th>25797</th>\n",
       "      <td>2019-05-09 17:24:46</td>\n",
       "      <td>SEVILLA</td>\n",
       "      <td>MADRID</td>\n",
       "      <td>2019-05-13 08:35:00</td>\n",
       "      <td>2019-05-13 15:26:00</td>\n",
       "      <td>LD-MD</td>\n",
       "      <td>NaN</td>\n",
       "      <td>Turista</td>\n",
       "      <td>Flexible</td>\n",
       "    </tr>\n",
       "  </tbody>\n",
       "</table>\n",
       "<p>25798 rows × 9 columns</p>\n",
       "</div>"
      ],
      "text/plain": [
       "               insert_date      origin destination           start_date  \\\n",
       "0      2019-04-22 08:00:25      MADRID     SEVILLA  2019-04-28 08:30:00   \n",
       "1      2019-04-22 10:03:24      MADRID    VALENCIA  2019-05-20 06:45:00   \n",
       "2      2019-04-25 19:19:46      MADRID     SEVILLA  2019-05-29 06:20:00   \n",
       "3      2019-04-24 06:21:57     SEVILLA      MADRID  2019-05-03 08:35:00   \n",
       "4      2019-04-19 21:13:55    VALENCIA      MADRID  2019-05-10 09:40:00   \n",
       "...                    ...         ...         ...                  ...   \n",
       "25793  2019-05-01 11:45:12  PONFERRADA      MADRID  2019-05-13 02:36:00   \n",
       "25794  2019-04-24 19:26:17      MADRID     SEVILLA  2019-05-25 08:00:00   \n",
       "25795  2019-05-06 13:04:53      MADRID     SEVILLA  2019-05-26 18:00:00   \n",
       "25796  2019-05-08 15:00:51      MADRID     SEVILLA  2019-05-14 13:10:00   \n",
       "25797  2019-05-09 17:24:46     SEVILLA      MADRID  2019-05-13 08:35:00   \n",
       "\n",
       "                  end_date train_type  price         train_class      fare  \n",
       "0      2019-04-28 11:14:00      ALVIA    NaN             Turista  Flexible  \n",
       "1      2019-05-20 08:38:00        AVE  21.95             Turista     Promo  \n",
       "2      2019-05-29 09:16:00    AV City  38.55             Turista     Promo  \n",
       "3      2019-05-03 15:26:00      LD-MD  34.35  Turista con enlace   Promo +  \n",
       "4      2019-05-10 11:20:00        AVE  45.30             Turista     Promo  \n",
       "...                    ...        ...    ...                 ...       ...  \n",
       "25793  2019-05-13 09:31:00  TRENHOTEL  45.80             Turista  Flexible  \n",
       "25794  2019-05-25 10:32:00        AVE  61.45          Preferente     Promo  \n",
       "25795  2019-05-26 20:32:00        AVE  60.30             Turista     Promo  \n",
       "25796  2019-05-14 20:51:00      MD-LD  34.35  Turista con enlace   Promo +  \n",
       "25797  2019-05-13 15:26:00      LD-MD    NaN             Turista  Flexible  \n",
       "\n",
       "[25798 rows x 9 columns]"
      ]
     },
     "execution_count": 2,
     "metadata": {},
     "output_type": "execute_result"
    }
   ],
   "source": [
    "\n",
    "data = pd.read_csv('renfe_small.csv.txt')\n",
    "data"
   ]
  },
  {
   "cell_type": "code",
   "execution_count": 4,
   "metadata": {},
   "outputs": [
    {
     "data": {
      "text/html": [
       "<div>\n",
       "<style scoped>\n",
       "    .dataframe tbody tr th:only-of-type {\n",
       "        vertical-align: middle;\n",
       "    }\n",
       "\n",
       "    .dataframe tbody tr th {\n",
       "        vertical-align: top;\n",
       "    }\n",
       "\n",
       "    .dataframe thead th {\n",
       "        text-align: right;\n",
       "    }\n",
       "</style>\n",
       "<table border=\"1\" class=\"dataframe\">\n",
       "  <thead>\n",
       "    <tr style=\"text-align: right;\">\n",
       "      <th></th>\n",
       "      <th>price</th>\n",
       "    </tr>\n",
       "  </thead>\n",
       "  <tbody>\n",
       "    <tr>\n",
       "      <th>count</th>\n",
       "      <td>22716.000000</td>\n",
       "    </tr>\n",
       "    <tr>\n",
       "      <th>mean</th>\n",
       "      <td>63.444532</td>\n",
       "    </tr>\n",
       "    <tr>\n",
       "      <th>std</th>\n",
       "      <td>25.912413</td>\n",
       "    </tr>\n",
       "    <tr>\n",
       "      <th>min</th>\n",
       "      <td>16.600000</td>\n",
       "    </tr>\n",
       "    <tr>\n",
       "      <th>25%</th>\n",
       "      <td>43.662500</td>\n",
       "    </tr>\n",
       "    <tr>\n",
       "      <th>50%</th>\n",
       "      <td>60.300000</td>\n",
       "    </tr>\n",
       "    <tr>\n",
       "      <th>75%</th>\n",
       "      <td>78.800000</td>\n",
       "    </tr>\n",
       "    <tr>\n",
       "      <th>max</th>\n",
       "      <td>214.200000</td>\n",
       "    </tr>\n",
       "  </tbody>\n",
       "</table>\n",
       "</div>"
      ],
      "text/plain": [
       "              price\n",
       "count  22716.000000\n",
       "mean      63.444532\n",
       "std       25.912413\n",
       "min       16.600000\n",
       "25%       43.662500\n",
       "50%       60.300000\n",
       "75%       78.800000\n",
       "max      214.200000"
      ]
     },
     "execution_count": 4,
     "metadata": {},
     "output_type": "execute_result"
    }
   ],
   "source": [
    "data.head()\n",
    "data.describe()\n",
    "\n"
   ]
  },
  {
   "cell_type": "code",
   "execution_count": 6,
   "metadata": {},
   "outputs": [
    {
     "data": {
      "text/plain": [
       "<matplotlib.axes._subplots.AxesSubplot at 0x2370379ab00>"
      ]
     },
     "execution_count": 6,
     "metadata": {},
     "output_type": "execute_result"
    },
    {
     "data": {
      "image/png": "[encoded data removed]",
      "text/plain": [
       "<Figure size 720x720 with 1 Axes>"
      ]
     },
     "metadata": {
      "needs_background": "light"
     },
     "output_type": "display_data"
    }
   ],
   "source": [
    "data['price'].plot(kind='box',figsize=(10,10))"
   ]
  },
  {
   "cell_type": "code",
   "execution_count": 21,
   "metadata": {},
   "outputs": [
    {
     "data": {
      "text/plain": [
       "insert_date    0.000000\n",
       "origin         0.000000\n",
       "destination    0.000000\n",
       "start_date     0.000000\n",
       "end_date       0.000000\n",
       "train_type     0.000000\n",
       "price          0.119467\n",
       "train_class    0.003993\n",
       "fare           0.003993\n",
       "dtype: float64"
      ]
     },
     "execution_count": 21,
     "metadata": {},
     "output_type": "execute_result"
    }
   ],
   "source": [
    "data.isnull().sum()/len(data)"
   ]
  },
  {
   "cell_type": "code",
   "execution_count": 22,
   "metadata": {},
   "outputs": [],
   "source": [
    "data['train_class'] = data['train_class'].fillna(data['train_class'].mode().iloc[0])\n"
   ]
  },
  {
   "cell_type": "code",
   "execution_count": 23,
   "metadata": {},
   "outputs": [
    {
     "data": {
      "text/plain": [
       "0               Turista\n",
       "1               Turista\n",
       "2               Turista\n",
       "3    Turista con enlace\n",
       "4               Turista\n",
       "Name: train_class, dtype: object"
      ]
     },
     "execution_count": 23,
     "metadata": {},
     "output_type": "execute_result"
    }
   ],
   "source": [
    "data['train_class'].head()\n"
   ]
  },
  {
   "cell_type": "code",
   "execution_count": 24,
   "metadata": {},
   "outputs": [
    {
     "data": {
      "text/plain": [
       "Turista               19598\n",
       "Preferente             2602\n",
       "Turista Plus           1877\n",
       "Turista con enlace     1709\n",
       "Cama Turista              9\n",
       "Cama G. Clase             3\n",
       "Name: train_class, dtype: int64"
      ]
     },
     "execution_count": 24,
     "metadata": {},
     "output_type": "execute_result"
    }
   ],
   "source": [
    "data['train_class'].value_counts()"
   ]
  },
  {
   "cell_type": "code",
   "execution_count": 25,
   "metadata": {},
   "outputs": [],
   "source": [
    "data['fare'] = data['fare'].fillna(data['fare'].mode().iloc[0])\n"
   ]
  },
  {
   "cell_type": "code",
   "execution_count": 26,
   "metadata": {},
   "outputs": [],
   "source": [
    "data['price'] = data.groupby('fare').transform(lambda x: x.fillna(x.mean()))"
   ]
  },
  {
   "cell_type": "code",
   "execution_count": 27,
   "metadata": {},
   "outputs": [
    {
     "data": {
      "text/plain": [
       "62.442987     1764\n",
       "76.300000     1652\n",
       "28.350000     1375\n",
       "85.100000     1285\n",
       "82.077189     1200\n",
       "              ... \n",
       "90.450000        1\n",
       "22.450000        1\n",
       "206.800000       1\n",
       "68.630000        1\n",
       "40.350000        1\n",
       "Name: price, Length: 186, dtype: int64"
      ]
     },
     "execution_count": 27,
     "metadata": {},
     "output_type": "execute_result"
    }
   ],
   "source": [
    "data['price'].value_counts()"
   ]
  },
  {
   "cell_type": "code",
   "execution_count": 28,
   "metadata": {},
   "outputs": [
    {
     "name": "stderr",
     "output_type": "stream",
     "text": [
      "Auto-assigning NUTS sampler...\n",
      "Initializing NUTS using jitter+adapt_diag...\n",
      "Multiprocess sampling (4 chains in 4 jobs)\n",
      "NUTS: [σ, μ]\n",
      "Sampling 4 chains: 100%|██████████| 8000/8000 [00:16<00:00, 497.10draws/s]\n"
     ]
    }
   ],
   "source": [
    "with pm.Model() as model_g:\n",
    "    μ = pm.Uniform('μ', lower=0, upper=300)\n",
    "    σ = pm.HalfNormal('σ', sd=10)\n",
    "    y = pm.Normal('y', mu=μ, sd=σ, observed=data['price'].values)\n",
    "    trace_g = pm.sample(1000, tune=1000)"
   ]
  },
  {
   "cell_type": "code",
   "execution_count": null,
   "metadata": {},
   "outputs": [],
   "source": []
  }
 ],
 "metadata": {
  "kernelspec": {
   "display_name": "Python 3",
   "language": "python",
   "name": "python3"
  },
  "language_info": {
   "codemirror_mode": {
    "name": "ipython",
    "version": 3
   },
   "file_extension": ".py",
   "mimetype": "text/x-python",
   "name": "python",
   "nbconvert_exporter": "python",
   "pygments_lexer": "ipython3",
   "version": "3.6.9"
  }
 },
 "nbformat": 4,
 "nbformat_minor": 2
}
