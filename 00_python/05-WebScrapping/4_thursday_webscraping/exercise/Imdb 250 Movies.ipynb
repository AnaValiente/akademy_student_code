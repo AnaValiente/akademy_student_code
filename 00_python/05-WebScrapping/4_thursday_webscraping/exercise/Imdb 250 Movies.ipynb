{
 "cells": [
  {
   "cell_type": "markdown",
   "metadata": {},
   "source": [
    "# Screappear top 250 de IMDB"
   ]
  },
  {
   "cell_type": "code",
   "execution_count": 1,
   "metadata": {},
   "outputs": [
    {
     "ename": "SyntaxError",
     "evalue": "invalid syntax (<ipython-input-1-d68b7cfe8530>, line 1)",
     "output_type": "error",
     "traceback": [
      "\u001b[1;36m  File \u001b[1;32m\"<ipython-input-1-d68b7cfe8530>\"\u001b[1;36m, line \u001b[1;32m1\u001b[0m\n\u001b[1;33m    Entrar a cada una de las primeras páginas.\u001b[0m\n\u001b[1;37m           ^\u001b[0m\n\u001b[1;31mSyntaxError\u001b[0m\u001b[1;31m:\u001b[0m invalid syntax\n"
     ]
    }
   ],
   "source": [
    "Entrar a cada una de las primeras páginas. \n",
    "sacar nombre peli, sinopsis y puntuación de al menos las 10 primeras.  "
   ]
  },
  {
   "cell_type": "code",
   "execution_count": 3,
   "metadata": {},
   "outputs": [],
   "source": [
    "import requests\n",
    "\n"
   ]
  },
  {
   "cell_type": "code",
   "execution_count": 4,
   "metadata": {},
   "outputs": [],
   "source": [
    "mainpage = page1 = requests.get(\"https://www.imdb.com/search/title/?groups=top_250&sort=user_rating\")\n",
    "\n",
    "page1 = requests.get(\"https://www.imdb.com/title/tt0111161/?ref_=adv_li_tt\")\n",
    "\n",
    "page2 = requests.get(\"https://www.imdb.com/title/tt0068646/\")\n",
    "page3 = requests.get(\"https://www.imdb.com/title/tt0468569/\")\n",
    "page4 = requests.get(\"https://www.imdb.com/title/tt0071562/\")\n",
    "page5 = requests.get(\"https://www.imdb.com/title/tt0167260/\")\n",
    "page6 = requests.get(\"https://www.imdb.com/title/tt0110912/\")\n",
    "page7 = requests.get(\"https://www.imdb.com/title/tt0108052/\")\n",
    "page8 = requests.get(\"https://www.imdb.com/title/tt0050083/\")\n",
    "page9 = requests.get(\"https://www.imdb.com/title/tt7286456/\")\n",
    "page10 = requests.get(\"https://www.imdb.com/title/tt1375666/\")\n",
    "\n"
   ]
  },
  {
   "cell_type": "code",
   "execution_count": 5,
   "metadata": {},
   "outputs": [],
   "source": [
    "from bs4 import BeautifulSoup as bs\n",
    "msoup=bs(mainpage.content,'html.parser')\n",
    "soup1 = bs(page1.content, 'html.parser')\n",
    "soup2 = bs(page2.content, 'html.parser')\n",
    "soup3 = bs(page3.content, 'html.parser')\n",
    "soup4 = bs(page4.content, 'html.parser')\n",
    "soup5 = bs(page5.content, 'html.parser')\n",
    "soup6 = bs(page6.content, 'html.parser')\n",
    "soup7 = bs(page7.content, 'html.parser')\n",
    "soup8 = bs(page8.content, 'html.parser')\n",
    "soup9 = bs(page9.content, 'html.parser')\n",
    "soup10 = bs(page10.content, 'html.parser')\n",
    "\n"
   ]
  },
  {
   "cell_type": "code",
   "execution_count": 9,
   "metadata": {},
   "outputs": [],
   "source": [
    "top10url=[soup1,soup2,soup3,soup4,soup5,soup6,soup7,soup8,soup9,soup10]\n"
   ]
  },
  {
   "cell_type": "code",
   "execution_count": 10,
   "metadata": {},
   "outputs": [
    {
     "data": {
      "text/plain": [
       "[<a href=\"/title/tt0111161/\">Cadena perpetua</a>,\n",
       " <a href=\"/title/tt0068646/\">El padrino</a>,\n",
       " <a href=\"/title/tt0468569/\">El caballero oscuro</a>,\n",
       " <a href=\"/title/tt0071562/\">El padrino: Parte II</a>,\n",
       " <a href=\"/title/tt0167260/\">El señor de los anillos: El retorno del rey</a>,\n",
       " <a href=\"/title/tt0110912/\">Pulp Fiction</a>,\n",
       " <a href=\"/title/tt0108052/\">La lista de Schindler</a>,\n",
       " <a href=\"/title/tt0050083/\">12 hombres sin piedad</a>,\n",
       " <a href=\"/title/tt7286456/\">Joker</a>,\n",
       " <a href=\"/title/tt1375666/\">Origen</a>]"
      ]
     },
     "execution_count": 10,
     "metadata": {},
     "output_type": "execute_result"
    }
   ],
   "source": [
    "allurls = msoup.select('.lister-list .lister-item-header a')\n",
    "allurls[:10]"
   ]
  },
  {
   "cell_type": "code",
   "execution_count": 11,
   "metadata": {},
   "outputs": [
    {
     "name": "stdout",
     "output_type": "stream",
     "text": [
      "['The Shawshank Redemption (original title)'] ['9.0'] ['The aging patriarch of an organized crime dynasty transfers control of his clandestine empire to his reluctant son.'] "
     ]
    }
   ],
   "source": [
    "title1 = soup1.select('.title_wrapper .originalTitle')\n",
    "sum1 = soup2.select('.plot_summary .summary_text')\n",
    "rat1 = soup3.select('.imdbRating .ratingValue strong')\n",
    "\n",
    "\n",
    "def data(x,y,z):\n",
    "    j=[]\n",
    "    l=[]\n",
    "    m=[]\n",
    "    for i in x:\n",
    "        i=i.text\n",
    "        j.append(i)\n",
    "    for k in y:\n",
    "        k=k.text\n",
    "        l.append(k)\n",
    "    for n in z:\n",
    "        n = n.text\n",
    "        m.append(n.strip())\n",
    "    print (j, l, m, end=\" \")\n",
    "\n",
    "data(title1,rat1,sum1)"
   ]
  },
  {
   "cell_type": "code",
   "execution_count": 12,
   "metadata": {},
   "outputs": [
    {
     "data": {
      "text/plain": [
       "(['Cadena perpetua\\xa0(1994) ',\n",
       "  'El padrino\\xa0(1972) ',\n",
       "  'El caballero oscuro\\xa0(2008) ',\n",
       "  'El padrino: Parte II\\xa0(1974) ',\n",
       "  'El señor de los anillos: El retorno del rey\\xa0(2003) ',\n",
       "  'Pulp Fiction\\xa0(1994) ',\n",
       "  'La lista de Schindler\\xa0(1993) ',\n",
       "  '12 hombres sin piedad\\xa0(1957) ',\n",
       "  'Joker\\xa0(2019) ',\n",
       "  'Origen\\xa0(2010) '],\n",
       " ['9.3', '9.2', '9.0', '9.0', '8.9', '8.9', '8.9', '8.9', '8.8', '8.8'],\n",
       " ['\\n                    Two imprisoned men bond over a number of years, finding solace and eventual redemption through acts of common decency.\\n            ',\n",
       "  '\\n                    The aging patriarch of an organized crime dynasty transfers control of his clandestine empire to his reluctant son.\\n            ',\n",
       "  '\\n                    When the menace known as the Joker wreaks havoc and chaos on the people of Gotham, Batman must accept one of the greatest psychological and physical tests of his ability to fight injustice.\\n            ',\n",
       "  '\\n                    The early life and career of Vito Corleone in 1920s New York City is portrayed, while his son, Michael, expands and tightens his grip on the family crime syndicate.\\n            ',\n",
       "  \"\\n                    Gandalf and Aragorn lead the World of Men against Sauron's army to draw his gaze from Frodo and Sam as they approach Mount Doom with the One Ring.\\n            \",\n",
       "  '\\n                    The lives of two mob hitmen, a boxer, a gangster and his wife, and a pair of diner bandits intertwine in four tales of violence and redemption.\\n            ',\n",
       "  '\\n                    In German-occupied Poland during World War II, industrialist Oskar Schindler gradually becomes concerned for his Jewish workforce after witnessing their persecution by the Nazis.\\n            ',\n",
       "  '\\n                    A jury holdout attempts to prevent a miscarriage of justice by forcing his colleagues to reconsider the evidence.\\n            ',\n",
       "  '\\n                    In Gotham City, mentally-troubled comedian Arthur Fleck is disregarded and mistreated by society. He then embarks on a downward spiral of revolution and bloody crime. This path brings him face-to-face with his alter-ego: \"The Joker\".\\n            ',\n",
       "  '\\n                    A thief who steals corporate secrets through the use of dream-sharing technology is given the inverse task of planting an idea into the mind of a C.E.O.\\n            '])"
      ]
     },
     "execution_count": 12,
     "metadata": {},
     "output_type": "execute_result"
    }
   ],
   "source": [
    "\n",
    "\n",
    "def top10(o):\n",
    "    titlex=[]\n",
    "    sumx=[]\n",
    "    ratx=[]\n",
    "    for t in o:\n",
    "        t = t.select('.title_wrapper h1')\n",
    "        for d in t:\n",
    "            d = d.text\n",
    "            d = d.replace('\\xc2\\xa0', ' ')\n",
    "            titlex.append(d)\n",
    "    for s in o:\n",
    "        s = s.select('.plot_summary .summary_text')\n",
    "        for f in s:\n",
    "            f = f.text      \n",
    "            ratx.append(f)\n",
    "    for r in o:\n",
    "        r = r.select('.imdbRating .ratingValue strong')\n",
    "        for g in r:\n",
    "            g = g.text\n",
    "            sumx.append(g.strip())\n",
    "    return titlex,sumx,ratx\n",
    "\n",
    "\n",
    "final = top10(top10url)\n",
    "final"
   ]
  },
  {
   "cell_type": "code",
   "execution_count": 17,
   "metadata": {},
   "outputs": [],
   "source": [
    "data = final[0:2]"
   ]
  },
  {
   "cell_type": "code",
   "execution_count": 16,
   "metadata": {},
   "outputs": [],
   "source": [
    "import pandas as pd"
   ]
  },
  {
   "cell_type": "code",
   "execution_count": null,
   "metadata": {},
   "outputs": [],
   "source": [
    "\n",
    "df = pd.DataFrame(data)\n",
    "df"
   ]
  },
  {
   "cell_type": "code",
   "execution_count": null,
   "metadata": {},
   "outputs": [],
   "source": []
  }
 ],
 "metadata": {
  "kernelspec": {
   "display_name": "Python 3",
   "language": "python",
   "name": "python3"
  },
  "language_info": {
   "codemirror_mode": {
    "name": "ipython",
    "version": 3
   },
   "file_extension": ".py",
   "mimetype": "text/x-python",
   "name": "python",
   "nbconvert_exporter": "python",
   "pygments_lexer": "ipython3",
   "version": "3.7.3"
  }
 },
 "nbformat": 4,
 "nbformat_minor": 2
}
