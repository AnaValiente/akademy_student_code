{
 "cells": [
  {
   "cell_type": "markdown",
   "metadata": {},
   "source": [
    "# Object Oriented Programming\n",
    "\n",
    "##### Exercises\n",
    "1. The oldest dog\n",
    "2. Dog Inheritance\n",
    "3. Hungry Dogs\n",
    "4. Dog Walking"
   ]
  },
  {
   "cell_type": "markdown",
   "metadata": {},
   "source": [
    "### Exercise 1: The Oldest Dog\n",
    "\n",
    "Using the same Dog class, instantiate three new dogs, each with a different age. Then write a function called, get_biggest_number(), that takes any number of ages (*args) and returns the oldest one. Then output the age of the oldest dog like so:\n",
    "```\n",
    "The oldest dog is 7 years old\n",
    "```\n",
    "Note: *args allows you to pass a variable number of arguments to a function. See example below."
   ]
  },
  {
   "cell_type": "code",
   "execution_count": 1,
   "metadata": {},
   "outputs": [
    {
     "name": "stdout",
     "output_type": "stream",
     "text": [
      "another arg through *args : yasoob\n",
      "another arg through *args : python\n",
      "another arg through *args : aggs\n",
      "another arg through *args : test\n"
     ]
    }
   ],
   "source": [
    "#example using the *args keyword\n",
    "def test_var_args(*args):\n",
    "    for arg in args:\n",
    "        print('another arg through *args :', arg)\n",
    "test_var_args('yasoob', 'python', 'aggs', 'test')"
   ]
  },
  {
   "cell_type": "code",
   "execution_count": 5,
   "metadata": {},
   "outputs": [
    {
     "name": "stdout",
     "output_type": "stream",
     "text": [
      "The oldest dog is 7 years old.\n"
     ]
    }
   ],
   "source": [
    "### Your Code Here\n",
    "\n",
    "#Soltuion\n",
    " \n",
    "class Dog:\n",
    "    # Class Attribute\n",
    "    species ='mammal'\n",
    "    # Initializer / Instance Attributes def __init__(self, name, age):\n",
    "\n",
    "    def __init__(self, name, age):\n",
    "        self.name =name\n",
    "        self.age =age\n",
    "        \n",
    "# Instantiate the Dog object\n",
    "jake =Dog(\"Jake\", 7)\n",
    "doug =Dog(\"Doug\", 4)\n",
    "william =Dog(\"William\", 5)\n",
    "\n",
    "# Determine the oldest dog\n",
    "def get_biggest_number(*args):\n",
    "    return max(args)\n",
    "\n",
    "# Output\n",
    "print(\"The oldest dog is {} years old.\".format(\n",
    "    get_biggest_number(jake.age, doug.age, william.age)))"
   ]
  },
  {
   "cell_type": "markdown",
   "metadata": {},
   "source": [
    "## Exercise 2: Dog Inheritance\n",
    "\n",
    "Create a Pets class that holds instances of dogs; this class is completely separate from the Dog class. In other words, the Dog class does not inherit from the Pets class. Then assign three dog instances to an instance of the Pets class. Start with the following code below. Save the file as pets_class.py. Your output should look like this:\n",
    "```\n",
    "I have 3 dogs.\n",
    "Tom is 6.\n",
    "Fletcher is 7.\n",
    "Larry is 9.\n",
    "And they’re all mammals, of course.```"
   ]
  },
  {
   "cell_type": "code",
   "execution_count": 8,
   "metadata": {},
   "outputs": [],
   "source": [
    "### ADD YOUR CODE TO THE STARTER CODE\n",
    "### STARTER CODE\n",
    "\n",
    "# Parent class\n",
    "class Dog:\n",
    "# Class attribute\n",
    "    species ='mammal'\n",
    "# Initializer / Instance attributes\n",
    "    def __init__(self, name, age):\n",
    "        self.name =name\n",
    "        self.age =age\n",
    "    # instance methods\n",
    "    def description(self):\n",
    "        return \"{} is {} years old\".format(self.name, self.age)\n",
    "    def speak(self, sound):\n",
    "        return \"{} says {}\".format(self.name, sound)\n",
    "\n",
    "# Child class (inherits from Dog class)\n",
    "class RussellTerrier(Dog):\n",
    "     def run(self, speed):\n",
    "        return \"{} runs {}\".format(self.name, speed) # Child class (inherits from Dog class)\n",
    "class Bulldog(Dog):\n",
    "     def run(self, speed):\n",
    "        return \"{} runs {}\".format(self.name, speed)"
   ]
  },
  {
   "cell_type": "code",
   "execution_count": 17,
   "metadata": {},
   "outputs": [
    {
     "name": "stdout",
     "output_type": "stream",
     "text": [
      "I have 3 dogs.\n",
      "Tom is 6.\n",
      "Fletcher is 7.\n",
      "Larry is 9.\n",
      "And they’re all mammals, of course.\n"
     ]
    }
   ],
   "source": [
    "### SOLUTION\n",
    "\n",
    "# Parent class\n",
    "class Pets:\n",
    "    dogs =[]\n",
    "    def __init__(self, dogs):\n",
    "        self.dogs =dogs\n",
    "  \n",
    " # Parent class\n",
    "class Dog:\n",
    "    # Class attribute\n",
    "    species ='mammal'\n",
    "    # Initializer / Instance attributes \n",
    "    def __init__(self, name, age):\n",
    "        self.name =name\n",
    "        self.age =age\n",
    "\n",
    "      # Instance methods\n",
    "    def description(self):\n",
    "        return self.name, self.age\n",
    "    def speak(self, sound):\n",
    "        return \"\\%s says \\%s\"(self.name, sound)\n",
    "    \n",
    "# Child class (inherits from Dog class)\n",
    "class RussellTerrier(Dog):\n",
    "    def run(self, speed):\n",
    "        return \"\\%s runs \\%s\"(self.name, speed) # Child class (inherits from Dog class)\n",
    "\n",
    "class Bulldog(Dog):\n",
    "    def run(self, speed):\n",
    "        return \"\\%s runs \\%s\"(self.name, speed) # Create instances of dogs\n",
    "\n",
    "my_dogs =[\n",
    "    Bulldog(\"Tom\", 6),\n",
    "    RussellTerrier(\"Fletcher\", 7),\n",
    "    Dog(\"Larry\", 9)\n",
    "    ]\n",
    " \n",
    "  # Instantiate the Pets class\n",
    "my_pets =Pets(my_dogs)\n",
    "# Output\n",
    "print(\"I have {} dogs.\".format(len(my_pets.dogs))) \n",
    "for dog in my_pets.dogs:\n",
    "     print(\"{} is {}.\".format(dog.name, dog.age))\n",
    "print(\"And they’re all {}s, of course.\".format(dog.species))"
   ]
  },
  {
   "cell_type": "markdown",
   "metadata": {},
   "source": [
    "## Exercise 3: Hungry Dogs\n",
    "Using the same file, add an instance attribute of is_hungry = True to the Dog class. Then add a method called eat() which changes the value of is_hungry to False when called. Figure out the best way to feed each dog and then output ”My dogs are hungry.” if all are hungry or ”My dogs are not hungry.” if all are not hungry. The final output should look like this:\n",
    "```\n",
    "I have 3 dogs.\n",
    "Tom is 6.\n",
    "Fletcher is 7.\n",
    "Larry is 9.\n",
    "And they’re all mammals, of course.\n",
    "My dogs are not hungry.\n",
    " ```"
   ]
  },
  {
   "cell_type": "code",
   "execution_count": null,
   "metadata": {},
   "outputs": [],
   "source": [
    "### YOUR CODE HERE"
   ]
  },
  {
   "cell_type": "markdown",
   "metadata": {},
   "source": [
    "## Exercise 4: Dog Walking\n",
    "Next, add a walk() method to both the Pets and Dog classes so that when you call the method on the Pets class, each dog instance assigned to the Pets class will walk(). Save this as dog_walking.py. This is slightly more difficult.\n",
    "\n",
    "Start by implementing the method in the same manner as the speak() method. As for the method in the Pets class, you will need to iterate through the list of dogs, then call the method itself.\n",
    "\n",
    "The output should look like this:\n",
    "\n",
    "```\n",
    "Tom is walking!\n",
    "Fletcher is walking!\n",
    "Larry is walking!\n",
    "```"
   ]
  },
  {
   "cell_type": "code",
   "execution_count": null,
   "metadata": {},
   "outputs": [],
   "source": [
    "### YOUR CODE HERE"
   ]
  }
 ],
 "metadata": {
  "kernelspec": {
   "display_name": "Python 3",
   "language": "python",
   "name": "python3"
  },
  "language_info": {
   "codemirror_mode": {
    "name": "ipython",
    "version": 3
   },
   "file_extension": ".py",
   "mimetype": "text/x-python",
   "name": "python",
   "nbconvert_exporter": "python",
   "pygments_lexer": "ipython3",
   "version": "3.6.9"
  }
 },
 "nbformat": 4,
 "nbformat_minor": 2
}
